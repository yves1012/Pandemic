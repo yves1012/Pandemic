{
 "cells": [
  {
   "cell_type": "markdown",
   "source": [
    "## 基础知识"
   ],
   "metadata": {
    "collapsed": false,
    "pycharm": {
     "name": "#%% md\n"
    }
   }
  },
  {
   "cell_type": "markdown",
   "source": [
    "### 1.注释"
   ],
   "metadata": {
    "collapsed": false,
    "pycharm": {
     "name": "#%% md\n"
    }
   }
  },
  {
   "cell_type": "code",
   "execution_count": 2,
   "outputs": [
    {
     "name": "stdout",
     "output_type": "stream",
     "text": [
      "注释\n"
     ]
    }
   ],
   "source": [
    "# 注释的作用：对代码起到解释说明的作用，注释内容不是真的代码，并不执行\n",
    "\n",
    "'''\n",
    "上面属于单行注释\n",
    "\n",
    "下面则属于多行注释\n",
    "'''\n",
    "\n",
    "print('注释')"
   ],
   "metadata": {
    "collapsed": false,
    "pycharm": {
     "name": "#%%\n"
    }
   }
  },
  {
   "cell_type": "markdown",
   "source": [
    "### 2.变量"
   ],
   "metadata": {
    "collapsed": false,
    "pycharm": {
     "name": "#%% md\n"
    }
   }
  },
  {
   "cell_type": "code",
   "execution_count": 10,
   "outputs": [],
   "source": [
    "# 变量主要分为不可变类型、可变类型与自定义类型，其中基础数据类型属于不可变类型\n",
    "name = 'Bob'\n",
    "age = 36\n",
    "\n",
    "# 变量的命名规则：一是数字、字母、下划线混合而成，但是不能以数字开头；二是 Python 使用下划线风格定义标识符\n",
    "address_no = '福建省泉州市'"
   ],
   "metadata": {
    "collapsed": false,
    "pycharm": {
     "name": "#%%\n"
    }
   }
  },
  {
   "cell_type": "markdown",
   "source": [
    "### 3.关键字"
   ],
   "metadata": {
    "collapsed": false,
    "pycharm": {
     "name": "#%% md\n"
    }
   }
  },
  {
   "cell_type": "code",
   "execution_count": 11,
   "outputs": [
    {
     "name": "stdout",
     "output_type": "stream",
     "text": [
      "['False', 'None', 'True', '__peg_parser__', 'and', 'as', 'assert', 'async', 'await', 'break', 'class', 'continue', 'def', 'del', 'elif', 'else', 'except', 'finally', 'for', 'from', 'global', 'if', 'import', 'in', 'is', 'lambda', 'nonlocal', 'not', 'or', 'pass', 'raise', 'return', 'try', 'while', 'with', 'yield']\n"
     ]
    }
   ],
   "source": [
    "# 关键字也是标识符，但这些标识符是程序定义好的，具有特定意义的标识符，所以在定义变量时不要使用关键字做为标识符名\n",
    "import keyword\n",
    "\n",
    "print(keyword.kwlist)"
   ],
   "metadata": {
    "collapsed": false,
    "pycharm": {
     "name": "#%%\n"
    }
   }
  },
  {
   "cell_type": "markdown",
   "source": [
    "### 4.占位符"
   ],
   "metadata": {
    "collapsed": false,
    "pycharm": {
     "name": "#%% md\n"
    }
   }
  },
  {
   "cell_type": "code",
   "execution_count": 19,
   "outputs": [
    {
     "name": "stdout",
     "output_type": "stream",
     "text": [
      "数字是 45\n",
      "数字是 45\n"
     ]
    }
   ],
   "source": [
    "# 第一种样式的占位符\n",
    "num = 45\n",
    "print('数字是 %d' % num)\n",
    "# 第二种样式的占位符\n",
    "print(f'数字是 {num}')"
   ],
   "metadata": {
    "collapsed": false,
    "pycharm": {
     "name": "#%%\n"
    }
   }
  },
  {
   "cell_type": "markdown",
   "source": [
    "### 5.数据类型转换"
   ],
   "metadata": {
    "collapsed": false,
    "pycharm": {
     "name": "#%% md\n"
    }
   }
  },
  {
   "cell_type": "code",
   "execution_count": 27,
   "outputs": [
    {
     "name": "stdout",
     "output_type": "stream",
     "text": [
      "input 输入： <class 'str'>\n",
      "强制转换后结果： <class 'int'>\n"
     ]
    }
   ],
   "source": [
    "# input() 获取到的数据都是 str 类型\n",
    "info = input()\n",
    "print('input 输入：', type(info))\n",
    "info = int(info)\n",
    "print('强制转换后结果：', type(info))"
   ],
   "metadata": {
    "collapsed": false,
    "pycharm": {
     "name": "#%%\n"
    }
   }
  },
  {
   "cell_type": "markdown",
   "source": [
    "### 6.函数"
   ],
   "metadata": {
    "collapsed": false,
    "pycharm": {
     "name": "#%% md\n"
    }
   }
  },
  {
   "cell_type": "code",
   "execution_count": 3,
   "outputs": [],
   "source": [
    "# 函数就是将一段功能代码封装到一起\n",
    "def sum_num(x, y):\n",
    "    \"\"\"\n",
    "    演示函数说明文档怎么写\n",
    "    :param x: 整数\n",
    "    :param y: 整数\n",
    "    :return: 两数求和\n",
    "    \"\"\"\n",
    "    return x + y"
   ],
   "metadata": {
    "collapsed": false,
    "pycharm": {
     "name": "#%%\n"
    }
   }
  },
  {
   "cell_type": "code",
   "execution_count": 4,
   "outputs": [
    {
     "name": "stdout",
     "output_type": "stream",
     "text": [
      "30\n"
     ]
    }
   ],
   "source": [
    "# 函数在定义时函数体中的代码是不执行的，当产生函数调用时程序才会跳转到函数体中执行函数的代码，函数体中的代码执行完成后回到调用处\n",
    "\n",
    "num = sum_num(10, 20)\n",
    "print(num)"
   ],
   "metadata": {
    "collapsed": false,
    "pycharm": {
     "name": "#%%\n"
    }
   }
  },
  {
   "cell_type": "code",
   "execution_count": null,
   "outputs": [],
   "source": [],
   "metadata": {
    "collapsed": false,
    "pycharm": {
     "name": "#%%\n"
    }
   }
  }
 ],
 "metadata": {
  "kernelspec": {
   "display_name": "Python 3 (ipykernel)",
   "language": "python",
   "name": "python3"
  },
  "language_info": {
   "codemirror_mode": {
    "name": "ipython",
    "version": 3
   },
   "file_extension": ".py",
   "mimetype": "text/x-python",
   "name": "python",
   "nbconvert_exporter": "python",
   "pygments_lexer": "ipython3",
   "version": "3.9.13"
  },
  "toc": {
   "base_numbering": 1,
   "nav_menu": {},
   "number_sections": true,
   "sideBar": true,
   "skip_h1_title": false,
   "title_cell": "Table of Contents",
   "title_sidebar": "Contents",
   "toc_cell": false,
   "toc_position": {},
   "toc_section_display": true,
   "toc_window_display": false
  }
 },
 "nbformat": 4,
 "nbformat_minor": 1
}